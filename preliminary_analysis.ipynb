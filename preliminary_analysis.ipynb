{
 "cells": [
  {
   "cell_type": "markdown",
   "id": "employed-seeking",
   "metadata": {},
   "source": [
    "# Project Preliminary Analysis\n",
    "### Authors: Matthew Falcione"
   ]
  },
  {
   "cell_type": "code",
   "execution_count": 1,
   "id": "brazilian-disco",
   "metadata": {},
   "outputs": [],
   "source": [
    "import requests\n",
    "import zipfile\n",
    "import pandas as pd\n",
    "import numpy as np"
   ]
  },
  {
   "cell_type": "markdown",
   "id": "limited-jason",
   "metadata": {},
   "source": [
    "### Download and extract dataset"
   ]
  },
  {
   "cell_type": "code",
   "execution_count": 3,
   "id": "rotary-injury",
   "metadata": {},
   "outputs": [],
   "source": [
    "# retrieve file from download directory and extract zip file\n",
    "download_dir = 'C:\\\\Users\\\\matth\\\\OneDrive - Drexel University\\\\Other\\\\Documents\\\\temp\\\\'\n",
    "cervical_cancer_dataset_path = download_dir + 'cervial_cancer_dataset.zip'\n",
    "with zipfile.ZipFile(cervical_cancer_dataset_path, 'r') as zip_ref:\n",
    "    zip_ref.extractall(download_dir)"
   ]
  },
  {
   "cell_type": "code",
   "execution_count": 4,
   "id": "continuing-pride",
   "metadata": {},
   "outputs": [],
   "source": [
    "# read in cervical cancer dataset and replace unknown values\n",
    "df = pd.read_csv(download_dir + 'kag_risk_factors_cervical_cancer.csv')\n",
    "df.replace('?', np.nan, inplace=True)"
   ]
  },
  {
   "cell_type": "markdown",
   "id": "minute-uganda",
   "metadata": {},
   "source": [
    "### Clean data and replace missing values"
   ]
  },
  {
   "cell_type": "markdown",
   "id": "grand-shoulder",
   "metadata": {},
   "source": [
    "Covert all the columns that should be float or bool from string to their respective data type. Replace missing float column values with their median value, and replace the missing values in bool column to False (assuming that if it was left blank that is was False)."
   ]
  },
  {
   "cell_type": "code",
   "execution_count": 5,
   "id": "liberal-defendant",
   "metadata": {},
   "outputs": [],
   "source": [
    "# update datatypes\n",
    "float_columns = [\"Number of sexual partners\", \"First sexual intercourse\",\n",
    "                 \"Num of pregnancies\", \"Smokes (years)\", \"Smokes (packs/year)\",\n",
    "                 \"Hormonal Contraceptives (years)\", \"IUD (years)\", \"STDs (number)\", \"STDs: Number of diagnosis\",\n",
    "                 \"STDs: Time since first diagnosis\", \"STDs: Time since last diagnosis\"]\n",
    "\n",
    "# bool columns have binary values (1 or 0) so dtype set to bool\n",
    "bool_columns = ['IUD', 'STDs', 'STDs:condylomatosis','STDs:cervical condylomatosis', 'STDs:vaginal condylomatosis',\n",
    "                'STDs:vulvo-perineal condylomatosis', 'STDs:syphilis', 'STDs:pelvic inflammatory disease',\n",
    "                'STDs:genital herpes','STDs:molluscum contagiosum', 'STDs:AIDS', 'STDs:HIV','STDs:Hepatitis B',\n",
    "                'STDs:HPV','Dx:Cancer', 'Dx:CIN', 'Dx:HPV', 'Dx', 'Hinselmann', 'Schiller', 'Citology', 'Biopsy',\n",
    "                'Hormonal Contraceptives', \"Smokes\"]\n",
    "bool_type_dict = {col:bool for col in bool_columns}\n",
    "\n",
    "# set all value to float to handle numbers with str formatting\n",
    "df = df.astype(float)\n",
    "# set boolean column values to bool\n",
    "df = df.astype(bool_type_dict)\n",
    "\n",
    "# replace columns values\n",
    "# replace missing float columns values with their medians\n",
    "for col in float_columns:\n",
    "    df[col] = df[col].fillna(df[col].median())\n",
    "# replace missing bool values with False\n",
    "for col in bool_columns:\n",
    "    df[col] = df[col].fillna(False)"
   ]
  },
  {
   "cell_type": "code",
   "execution_count": 6,
   "id": "elder-associate",
   "metadata": {},
   "outputs": [],
   "source": [
    "# after investigation, no information on 'Dx' could be found so it was dropped\n",
    "df.drop(columns='Dx', axis=1, inplace=True)"
   ]
  },
  {
   "cell_type": "markdown",
   "id": "centered-conclusion",
   "metadata": {},
   "source": [
    "### Generate attribute summary table and correlation to `Biopsy` column"
   ]
  },
  {
   "cell_type": "markdown",
   "id": "alive-illustration",
   "metadata": {},
   "source": [
    "Calculate correlation of each column to `Biopsy` target value and display top 10 values that are most correlated."
   ]
  },
  {
   "cell_type": "code",
   "execution_count": 7,
   "id": "light-electricity",
   "metadata": {},
   "outputs": [],
   "source": [
    "# create dictionary to house correlation values to 'Biopsy' (goal value)\n",
    "correlation_dict = {}\n",
    "for col in df.columns:\n",
    "    correlation_dict[col] = df['Biopsy'].corr(df[col])\n",
    "    \n",
    "# reshape and rename columns of correlation dataframe\n",
    "df_correlation = pd.DataFrame(correlation_dict.items())\n",
    "df_correlation.rename({0: 'Attribute', 1: \"Correlation to Biopsy\"}, inplace=True, axis='columns')\n",
    "df_correlation.set_index('Attribute', inplace=True)\n",
    "\n",
    "# drop biopsy correlation to itself sort in descending order\n",
    "df_correlation.drop(index='Biopsy', axis=0, inplace=True)\n",
    "df_correlation.sort_values(by='Correlation to Biopsy', inplace=True, ascending=False)\n",
    "\n",
    "# ouput top ten most correlated attributes to biopsy\n",
    "df_correlation_top_ten_index = df_correlation.head(10).index"
   ]
  },
  {
   "cell_type": "markdown",
   "id": "necessary-heath",
   "metadata": {},
   "source": [
    "Boolean columns will have NaN values for min, max, mean, and std in the table."
   ]
  },
  {
   "cell_type": "code",
   "execution_count": 8,
   "id": "hawaiian-woman",
   "metadata": {},
   "outputs": [
    {
     "data": {
      "text/html": [
       "<div>\n",
       "<style scoped>\n",
       "    .dataframe tbody tr th:only-of-type {\n",
       "        vertical-align: middle;\n",
       "    }\n",
       "\n",
       "    .dataframe tbody tr th {\n",
       "        vertical-align: top;\n",
       "    }\n",
       "\n",
       "    .dataframe thead th {\n",
       "        text-align: right;\n",
       "    }\n",
       "</style>\n",
       "<table border=\"1\" class=\"dataframe\">\n",
       "  <thead>\n",
       "    <tr style=\"text-align: right;\">\n",
       "      <th></th>\n",
       "      <th>min</th>\n",
       "      <th>max</th>\n",
       "      <th>mean</th>\n",
       "      <th>std</th>\n",
       "      <th>Correlation to Biopsy</th>\n",
       "    </tr>\n",
       "    <tr>\n",
       "      <th>Attribute</th>\n",
       "      <th></th>\n",
       "      <th></th>\n",
       "      <th></th>\n",
       "      <th></th>\n",
       "      <th></th>\n",
       "    </tr>\n",
       "  </thead>\n",
       "  <tbody>\n",
       "    <tr>\n",
       "      <th>Schiller</th>\n",
       "      <td>NaN</td>\n",
       "      <td>NaN</td>\n",
       "      <td>NaN</td>\n",
       "      <td>NaN</td>\n",
       "      <td>0.733204</td>\n",
       "    </tr>\n",
       "    <tr>\n",
       "      <th>Hinselmann</th>\n",
       "      <td>NaN</td>\n",
       "      <td>NaN</td>\n",
       "      <td>NaN</td>\n",
       "      <td>NaN</td>\n",
       "      <td>0.547417</td>\n",
       "    </tr>\n",
       "    <tr>\n",
       "      <th>Citology</th>\n",
       "      <td>NaN</td>\n",
       "      <td>NaN</td>\n",
       "      <td>NaN</td>\n",
       "      <td>NaN</td>\n",
       "      <td>0.327466</td>\n",
       "    </tr>\n",
       "    <tr>\n",
       "      <th>Dx:Cancer</th>\n",
       "      <td>NaN</td>\n",
       "      <td>NaN</td>\n",
       "      <td>NaN</td>\n",
       "      <td>NaN</td>\n",
       "      <td>0.160905</td>\n",
       "    </tr>\n",
       "    <tr>\n",
       "      <th>Dx:HPV</th>\n",
       "      <td>NaN</td>\n",
       "      <td>NaN</td>\n",
       "      <td>NaN</td>\n",
       "      <td>NaN</td>\n",
       "      <td>0.160905</td>\n",
       "    </tr>\n",
       "    <tr>\n",
       "      <th>Dx:CIN</th>\n",
       "      <td>NaN</td>\n",
       "      <td>NaN</td>\n",
       "      <td>NaN</td>\n",
       "      <td>NaN</td>\n",
       "      <td>0.113172</td>\n",
       "    </tr>\n",
       "    <tr>\n",
       "      <th>STDs (number)</th>\n",
       "      <td>0.0</td>\n",
       "      <td>4.0</td>\n",
       "      <td>0.155012</td>\n",
       "      <td>0.529617</td>\n",
       "      <td>0.103153</td>\n",
       "    </tr>\n",
       "    <tr>\n",
       "      <th>STDs: Number of diagnosis</th>\n",
       "      <td>0.0</td>\n",
       "      <td>3.0</td>\n",
       "      <td>0.087413</td>\n",
       "      <td>0.302545</td>\n",
       "      <td>0.097449</td>\n",
       "    </tr>\n",
       "    <tr>\n",
       "      <th>Hormonal Contraceptives (years)</th>\n",
       "      <td>0.0</td>\n",
       "      <td>30.0</td>\n",
       "      <td>2.035331</td>\n",
       "      <td>3.56704</td>\n",
       "      <td>0.094164</td>\n",
       "    </tr>\n",
       "    <tr>\n",
       "      <th>Smokes (years)</th>\n",
       "      <td>0.0</td>\n",
       "      <td>37.0</td>\n",
       "      <td>1.201241</td>\n",
       "      <td>4.060623</td>\n",
       "      <td>0.061204</td>\n",
       "    </tr>\n",
       "  </tbody>\n",
       "</table>\n",
       "</div>"
      ],
      "text/plain": [
       "                                 min   max      mean       std  \\\n",
       "Attribute                                                        \n",
       "Schiller                         NaN   NaN       NaN       NaN   \n",
       "Hinselmann                       NaN   NaN       NaN       NaN   \n",
       "Citology                         NaN   NaN       NaN       NaN   \n",
       "Dx:Cancer                        NaN   NaN       NaN       NaN   \n",
       "Dx:HPV                           NaN   NaN       NaN       NaN   \n",
       "Dx:CIN                           NaN   NaN       NaN       NaN   \n",
       "STDs (number)                    0.0   4.0  0.155012  0.529617   \n",
       "STDs: Number of diagnosis        0.0   3.0  0.087413  0.302545   \n",
       "Hormonal Contraceptives (years)  0.0  30.0  2.035331   3.56704   \n",
       "Smokes (years)                   0.0  37.0  1.201241  4.060623   \n",
       "\n",
       "                                 Correlation to Biopsy  \n",
       "Attribute                                               \n",
       "Schiller                                      0.733204  \n",
       "Hinselmann                                    0.547417  \n",
       "Citology                                      0.327466  \n",
       "Dx:Cancer                                     0.160905  \n",
       "Dx:HPV                                        0.160905  \n",
       "Dx:CIN                                        0.113172  \n",
       "STDs (number)                                 0.103153  \n",
       "STDs: Number of diagnosis                     0.097449  \n",
       "Hormonal Contraceptives (years)               0.094164  \n",
       "Smokes (years)                                0.061204  "
      ]
     },
     "execution_count": 8,
     "metadata": {},
     "output_type": "execute_result"
    }
   ],
   "source": [
    "# use pandas built-in describe() function to calculate min, max, mean, and std\n",
    "df_describe = df.describe(include='all').T\n",
    "df_describe.drop(index='Biopsy', axis=0, inplace=True)\n",
    "\n",
    "# add correlation to biopsy to the attribute summary table\n",
    "df_describe['Correlation to Biopsy'] = df_correlation\n",
    "df_describe.loc[df_correlation_top_ten_index, ['min', 'max', 'mean', 'std', 'Correlation to Biopsy']]"
   ]
  },
  {
   "cell_type": "markdown",
   "id": "musical-yield",
   "metadata": {},
   "source": [
    "Check to see how many positive cancer biopsies there were (55 positive subjects)."
   ]
  },
  {
   "cell_type": "code",
   "execution_count": 9,
   "id": "critical-functionality",
   "metadata": {},
   "outputs": [
    {
     "data": {
      "text/plain": [
       "False    803\n",
       "True      55\n",
       "Name: Biopsy, dtype: int64"
      ]
     },
     "execution_count": 9,
     "metadata": {},
     "output_type": "execute_result"
    }
   ],
   "source": [
    "df['Biopsy'].value_counts()"
   ]
  },
  {
   "cell_type": "markdown",
   "id": "legitimate-prefix",
   "metadata": {},
   "source": [
    "For each highly-correlated boolean column, show the count of the true and false values since they do not have a good measure of min, max, mean, or std."
   ]
  },
  {
   "cell_type": "code",
   "execution_count": 10,
   "id": "dramatic-triple",
   "metadata": {},
   "outputs": [],
   "source": [
    "# get the count of the true and false value of each highly-correlated boolean column\n",
    "boolean_columns_highest_correlation = ['Dx:Cancer', 'Dx:CIN', 'Dx:HPV', 'Hinselmann', 'Schiller', 'Citology']\n",
    "value_counts_series_list = []\n",
    "for col in boolean_columns_highest_correlation:\n",
    "    value_counts_series = df[col].value_counts()\n",
    "    value_counts_series_list.append(value_counts_series)"
   ]
  },
  {
   "cell_type": "code",
   "execution_count": 11,
   "id": "vital-plaintiff",
   "metadata": {},
   "outputs": [
    {
     "data": {
      "text/html": [
       "<div>\n",
       "<style scoped>\n",
       "    .dataframe tbody tr th:only-of-type {\n",
       "        vertical-align: middle;\n",
       "    }\n",
       "\n",
       "    .dataframe tbody tr th {\n",
       "        vertical-align: top;\n",
       "    }\n",
       "\n",
       "    .dataframe thead th {\n",
       "        text-align: right;\n",
       "    }\n",
       "</style>\n",
       "<table border=\"1\" class=\"dataframe\">\n",
       "  <thead>\n",
       "    <tr style=\"text-align: right;\">\n",
       "      <th></th>\n",
       "      <th>False</th>\n",
       "      <th>True</th>\n",
       "    </tr>\n",
       "  </thead>\n",
       "  <tbody>\n",
       "    <tr>\n",
       "      <th>Dx:Cancer</th>\n",
       "      <td>840</td>\n",
       "      <td>18</td>\n",
       "    </tr>\n",
       "    <tr>\n",
       "      <th>Dx:CIN</th>\n",
       "      <td>849</td>\n",
       "      <td>9</td>\n",
       "    </tr>\n",
       "    <tr>\n",
       "      <th>Dx:HPV</th>\n",
       "      <td>840</td>\n",
       "      <td>18</td>\n",
       "    </tr>\n",
       "    <tr>\n",
       "      <th>Hinselmann</th>\n",
       "      <td>823</td>\n",
       "      <td>35</td>\n",
       "    </tr>\n",
       "    <tr>\n",
       "      <th>Schiller</th>\n",
       "      <td>784</td>\n",
       "      <td>74</td>\n",
       "    </tr>\n",
       "    <tr>\n",
       "      <th>Citology</th>\n",
       "      <td>814</td>\n",
       "      <td>44</td>\n",
       "    </tr>\n",
       "  </tbody>\n",
       "</table>\n",
       "</div>"
      ],
      "text/plain": [
       "            False  True \n",
       "Dx:Cancer     840     18\n",
       "Dx:CIN        849      9\n",
       "Dx:HPV        840     18\n",
       "Hinselmann    823     35\n",
       "Schiller      784     74\n",
       "Citology      814     44"
      ]
     },
     "execution_count": 11,
     "metadata": {},
     "output_type": "execute_result"
    }
   ],
   "source": [
    "# combine all value counts series and set the ket to be the column names\n",
    "combined_value_counts_series = pd.concat(value_counts_series_list, keys=boolean_columns_highest_correlation)\n",
    "# unstack the multiindex to get 'True' and 'False' as columns\n",
    "combined_value_counts_series = combined_value_counts_series.unstack(level=1)\n",
    "combined_value_counts_series"
   ]
  },
  {
   "cell_type": "markdown",
   "id": "worth-bride",
   "metadata": {},
   "source": [
    "---"
   ]
  },
  {
   "cell_type": "markdown",
   "id": "medical-saying",
   "metadata": {},
   "source": [
    "### Feature Selection"
   ]
  },
  {
   "cell_type": "markdown",
   "id": "focused-holder",
   "metadata": {},
   "source": [
    "#### Genetic Algorithm Approach"
   ]
  },
  {
   "cell_type": "markdown",
   "id": "through-clear",
   "metadata": {},
   "source": [
    "#### Embedded\n",
    "* Tree-based (Random Forest Importance Approach)\n",
    "* Lasso (L1)"
   ]
  },
  {
   "cell_type": "markdown",
   "id": "initial-terror",
   "metadata": {},
   "source": [
    "### Dimensionality Reduction / Visualization"
   ]
  },
  {
   "cell_type": "markdown",
   "id": "engaging-gross",
   "metadata": {},
   "source": [
    "#### Linear\n",
    "* PCA\n",
    "* LDA\n",
    "* SVD"
   ]
  },
  {
   "cell_type": "markdown",
   "id": "incredible-wedding",
   "metadata": {},
   "source": [
    "#### Non-linear\n",
    "* t-SNE / Uniform Manifold Approximation and Projection (UMAP)\n",
    "* Kernel-PCA\n",
    "* Autoencoder"
   ]
  },
  {
   "cell_type": "markdown",
   "id": "administrative-calibration",
   "metadata": {},
   "source": [
    "#### Classification Evaluation Metrics\n",
    "* <https://towardsdatascience.com/the-ultimate-guide-to-binary-classification-metrics-c25c3627dd0a>\n",
    "* <https://towardsdatascience.com/the-5-classification-evaluation-metrics-you-must-know-aa97784ff226>"
   ]
  },
  {
   "cell_type": "markdown",
   "id": "former-gabriel",
   "metadata": {},
   "source": [
    "Since classes are imblanced, don't use accuracy. Use F1, AUROC, MMC"
   ]
  },
  {
   "cell_type": "markdown",
   "id": "tired-gallery",
   "metadata": {},
   "source": [
    "False negative worse since they would not get screened (be cautious) "
   ]
  },
  {
   "cell_type": "markdown",
   "id": "million-argument",
   "metadata": {},
   "source": [
    "#### Classification\n",
    "* XGBoost/LightGBM\n",
    "\n",
    "- Microsoft NNI / fastai"
   ]
  }
 ],
 "metadata": {
  "kernelspec": {
   "display_name": "Python 3.7.3 64-bit ('base': conda)",
   "language": "python",
   "name": "python37364bitbasecondae205318944904618b9ba0f7f5aef68ec"
  },
  "language_info": {
   "codemirror_mode": {
    "name": "ipython",
    "version": 3
   },
   "file_extension": ".py",
   "mimetype": "text/x-python",
   "name": "python",
   "nbconvert_exporter": "python",
   "pygments_lexer": "ipython3",
   "version": "3.7.9"
  }
 },
 "nbformat": 4,
 "nbformat_minor": 5
}